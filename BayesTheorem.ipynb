{
 "cells": [
  {
   "cell_type": "markdown",
   "metadata": {},
   "source": [
    "# Bayes Theorem"
   ]
  },
  {
   "cell_type": "markdown",
   "metadata": {},
   "source": [
    "## Contents\n",
    "\n",
    "1. Summary\n",
    "1. Formula\n",
    "1. Glossary"
   ]
  },
  {
   "cell_type": "markdown",
   "metadata": {},
   "source": [
    "## Summary\n",
    "Bayes Theorem gives us a way to create more accurate probabilities by combining additional evidence with the initial hypothesis. This has strong applications where you wish to analyze what are the possible outcomes for something in a given situation.\n"
   ]
  },
  {
   "cell_type": "markdown",
   "metadata": {},
   "source": [
    "## Formula"
   ]
  },
  {
   "cell_type": "markdown",
   "metadata": {},
   "source": [
    "$$P(H \\mid E) =  \\frac{P(E \\mid H)} {P(E)} P(H)$$"
   ]
  },
  {
   "cell_type": "markdown",
   "metadata": {},
   "source": [
    "Where:\n",
    "\n",
    "P = Probability, H = Hypothesis, and E = Evidence.\n",
    "\n",
    "The formula is read as:\n",
    "\n",
    ">_The probability of the Hypothesis given the Evidence is equal to the probability of the Evidence given the Hypothesis divided by the probability of the evidence multiplied by the probability of the Hopothesis._\n",
    "\n",
    "An example of this formula described in words where H is a Hypothesis describing \"The ground is wet\", and E is evidence describing that \"It rained this morning\":\n",
    "\n",
    ">_The probability of the ground being wet when it rained this morning is equal to the probability of it raining in the morning given that the ground is wet divided by the probability of it raining in the morning multiplied by the probability of the ground being wet._\n",
    "\n",
    "The probabilities can be simplified into:\n",
    "\n",
    "P(H | E) = The probability of the ground being wet given that it rained this morning\n",
    "\n",
    "P(E | H) = The probability of it raining in the morning when the ground is wet\n",
    "\n",
    "P(E) = The probability of it raining in the morning\n",
    "\n",
    "P(H) = The probability of the ground being wet"
   ]
  },
  {
   "cell_type": "markdown",
   "metadata": {},
   "source": [
    "## Glossary\n",
    "\n",
    "### A Priori Probability: \n",
    "_A probability which is based off of indepedent factors which are known before any prior evidence is given. For example: You have a dataset which shows the amount of players on a hockey rink (does not include referees) at a specific point in time. In total, there are 12 players on the ice. In a usual game, those 12 players consist of 2 goaltenders and 10 skaters. The A Priori probability of being a skater on the ice is 10/12 whereas the A Priori probability of being a goaltender is 2/12._\n",
    "\n",
    "__Player Positions__\n",
    "\n",
    "| Count | Player Number | Player Position \\[G/S\\] |\n",
    "|---|---|---|\n",
    "| 1 | 12 | S |\n",
    "| 2 | 88 | G |\n",
    "| 3 | 91 | S |\n",
    "| 4 | 08 | S |\n",
    "| 5 | 33 | S |\n",
    "| 6 | 52 | S |\n",
    "| 7 | 03 | S |\n",
    "| 8 | 78 | G |\n",
    "| 9 | 49 | S |\n",
    "| 10 | 63 | S |\n",
    "| 11 | 11 | S |\n",
    "| 12 | 73 | S |\n",
    "\n",
    "\n",
    "__A Priori Probabilities__\n",
    "\n",
    "| Player Position \\[G/S\\] | Probability |\n",
    "|---|---|\n",
    "| G | 2/12 |\n",
    "| S | 10/12 |\n",
    "\n",
    "### Conditional Probability:\n",
    "A probability in which external events may alter an event. Let's go back to our hockey example: In Hockey, you are allowed to substitude your goaltender for a skater. Teams often do this when they are down a goal. This means that in some cases, we may not simply just say that there are always 2 goaltenders on the ice. We need to examine the characteristics of the players. lets freeze time for a second."
   ]
  },
  {
   "cell_type": "code",
   "execution_count": null,
   "metadata": {},
   "outputs": [],
   "source": []
  }
 ],
 "metadata": {
  "kernelspec": {
   "display_name": "Python 3",
   "language": "python",
   "name": "python3"
  },
  "language_info": {
   "codemirror_mode": {
    "name": "ipython",
    "version": 3
   },
   "file_extension": ".py",
   "mimetype": "text/x-python",
   "name": "python",
   "nbconvert_exporter": "python",
   "pygments_lexer": "ipython3",
   "version": "3.6.5"
  }
 },
 "nbformat": 4,
 "nbformat_minor": 2
}
