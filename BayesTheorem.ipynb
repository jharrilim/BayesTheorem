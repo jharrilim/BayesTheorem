{
 "cells": [
  {
   "cell_type": "markdown",
   "metadata": {},
   "source": [
    "# Bayes Theorem"
   ]
  },
  {
   "cell_type": "markdown",
   "metadata": {},
   "source": [
    "## Contents\n",
    "\n",
    "1. [Summary](BayesTheorem.ipynb#Summary)\n",
    "1. [Formula](#Formula)\n",
    "1. [Overview of Probabilities](#Overview-of-Probabilities)\n",
    "  1. [A Priori Probability](BayesTheorem.ipynb#A-Priori-Probability)\n",
    "  1. [Conditional Probability](BayesTheorem.ipynb#Conditional-Probability)"
   ]
  },
  {
   "cell_type": "markdown",
   "metadata": {},
   "source": [
    "## Summary\n",
    "Bayes Theorem gives us a way to create more accurate probabilities by combining additional evidence with the initial hypothesis. This has strong applications where you wish to analyze what are the possible outcomes for something in a given situation.\n",
    "\n",
    "In this notebook you will learn more about what Bayes Theorem is, what it does, and how you can use it in machine learning applications with Python 3 and SciKit Learn."
   ]
  },
  {
   "cell_type": "markdown",
   "metadata": {},
   "source": [
    "## Formula"
   ]
  },
  {
   "cell_type": "markdown",
   "metadata": {},
   "source": [
    "$$P(H \\mid E) =  \\frac{P(E \\mid H)} {P(E)} P(H)$$"
   ]
  },
  {
   "cell_type": "markdown",
   "metadata": {},
   "source": [
    "Where:\n",
    "\n",
    " - P = Probability\n",
    " - H = Hypothesis\n",
    " - E = Evidence.\n",
    "\n",
    "The formula is read as:\n",
    "\n",
    ">_The probability of the Hypothesis given the Evidence is equal to the probability of the Evidence given the Hypothesis divided by the probability of the evidence multiplied by the probability of the Hopothesis._\n",
    "\n",
    "An example of this formula described in words where H is a Hypothesis describing \"The ground is wet\", and E is evidence describing that \"It rained this morning\":\n",
    "\n",
    ">_The probability of the ground being wet when it rained this morning is equal to the probability of it raining in the morning given that the ground is wet divided by the probability of it raining in the morning multiplied by the probability of the ground being wet._\n",
    "\n",
    "The probabilities can be simplified into:\n",
    "\n",
    " - P(H | E) = The probability of the ground being wet given that it rained this morning\n",
    "\n",
    " - P(E | H) = The probability of it raining in the morning when the ground is wet\n",
    "\n",
    " - P(E) = The probability of it raining in the morning\n",
    "\n",
    " - P(H) = The probability of the ground being wet\n",
    " \n",
    "Note: _The | (pipe) notation signifies conditional probability in which the left side of the pipe is dependent on the right side of the pipe._"
   ]
  },
  {
   "cell_type": "markdown",
   "metadata": {},
   "source": [
    "## Overview of Probabilities"
   ]
  },
  {
   "cell_type": "markdown",
   "metadata": {},
   "source": [
    "### A Priori Probability\n",
    "_A probability which is based off of indepedent factors which are known before any prior evidence is given. For example: You have a dataset which shows the amount of players on a hockey rink (does not include referees) at a specific point in time. In total, there are 12 players on the ice. In a usual game, those 12 players consist of 2 goaltenders and 10 skaters. The A Priori probability of being a skater on the ice is 10/12 whereas the A Priori probability of being a goaltender is 2/12._\n",
    "\n",
    "__Player Positions__\n",
    "\n",
    "| Count | Player Number | Player Position \\[G/S\\] |\n",
    "|---|---|---|\n",
    "| 1 | 12 | S |\n",
    "| 2 | 88 | G |\n",
    "| 3 | 91 | S |\n",
    "| 4 | 08 | S |\n",
    "| 5 | 33 | S |\n",
    "| 6 | 52 | S |\n",
    "| 7 | 03 | S |\n",
    "| 8 | 78 | G |\n",
    "| 9 | 49 | S |\n",
    "| 10 | 63 | S |\n",
    "| 11 | 11 | S |\n",
    "| 12 | 73 | S |\n",
    "\n",
    "\n",
    "__A Priori Probabilities__\n",
    "\n",
    "| Player Position \\[G/S\\] | Probability |\n",
    "|---|---|\n",
    "| G | 2/12 |\n",
    "| S | 10/12 |"
   ]
  },
  {
   "cell_type": "markdown",
   "metadata": {},
   "source": [
    "### Conditional Probability\n",
    "A probability in which external events may alter an event. Let's go back to our hockey example: In Hockey, you are allowed to substitude your goaltender for a skater. Teams often do this when they are down a goal. This means that in some cases, we may not simply just say that there are always 2 goaltenders on the ice. We need to examine the characteristics of the players. lets freeze time for a second.\n",
    "\n",
    "| Count | Player Number | IsMoving | IsNearNet | Player Position \\[G/S\\] |\n",
    "|---|---|---|---|\n",
    "| 1 | 12 | 1 | 0 | S |\n",
    "| 2 | 88 | 0 | 1 | G |\n",
    "| 3 | 91 | 1 | 0 | S |\n",
    "| 4 | 08 | 1 | 1 | S |\n",
    "| 5 | 33 | 1 | 0 | S |\n",
    "| 6 | 52 | 1 | 0 | S |\n",
    "| 7 | 03 | 1 | 1 | S |\n",
    "| 8 | 78 | 0 | 1 | G |\n",
    "| 9 | 49 | 1 | 0 | S |\n",
    "| 10 | 63 | 0 | 0 | S |\n",
    "| 11 | 11 | 0 | 0 | S |\n",
    "| 12 | 73 | 0 | 1 | S |\n",
    "\n",
    "In our new table, we have two new player features: IsMoving, and IsNearNet (lets not worry about nitpicky details such as the actual distance for now). Let's look at how often they occur per each type of player position.\n",
    "\n",
    "| IsMoving | IsNearNet | Player Position \\[G/S\\] |\n",
    "|---|---|---|\n",
    "| 7/10 | 2/10 | S |\n",
    "| 0/2 | 2/2 | G |\n",
    "\n",
    "We now have a table that shows __conditional probability__. In the table above, we can see that there is a 7/10 probability that a player will be moving given that they are a skater, and a 2/10 probability that a player will be near a net given that they are a skater."
   ]
  },
  {
   "cell_type": "code",
   "execution_count": null,
   "metadata": {},
   "outputs": [],
   "source": []
  }
 ],
 "metadata": {
  "kernelspec": {
   "display_name": "Python 3",
   "language": "python",
   "name": "python3"
  },
  "language_info": {
   "codemirror_mode": {
    "name": "ipython",
    "version": 3
   },
   "file_extension": ".py",
   "mimetype": "text/x-python",
   "name": "python",
   "nbconvert_exporter": "python",
   "pygments_lexer": "ipython3",
   "version": "3.6.5"
  }
 },
 "nbformat": 4,
 "nbformat_minor": 2
}
